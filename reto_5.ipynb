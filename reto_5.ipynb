{
 "cells": [
  {
   "cell_type": "markdown",
   "metadata": {},
   "source": [
    "## Reto 5: Funciones"
   ]
  },
  {
   "cell_type": "markdown",
   "metadata": {},
   "source": [
    "### Ejercicio 1\n",
    "[![image.png](https://i.postimg.cc/63S6j3rt/image.png)](https://postimg.cc/XGf0Xn1z)\n"
   ]
  },
  {
   "cell_type": "markdown",
   "metadata": {},
   "source": [
    "#### Volumen y area superficial"
   ]
  },
  {
   "cell_type": "code",
   "execution_count": 29,
   "metadata": {},
   "outputs": [
    {
     "ename": "ValueError",
     "evalue": "could not convert string to float: ''",
     "output_type": "error",
     "traceback": [
      "\u001b[1;31m---------------------------------------------------------------------------\u001b[0m",
      "\u001b[1;31mValueError\u001b[0m                                Traceback (most recent call last)",
      "Cell \u001b[1;32mIn[29], line 18\u001b[0m\n\u001b[0;32m     15\u001b[0m     \u001b[38;5;28;01mreturn\u001b[39;00m a_esfera\n\u001b[0;32m     17\u001b[0m \u001b[38;5;28;01mif\u001b[39;00m \u001b[38;5;18m__name__\u001b[39m \u001b[38;5;241m==\u001b[39m \u001b[38;5;124m\"\u001b[39m\u001b[38;5;124m__main__\u001b[39m\u001b[38;5;124m\"\u001b[39m:\n\u001b[1;32m---> 18\u001b[0m     r1\u001b[38;5;241m=\u001b[39m\u001b[38;5;28;43mfloat\u001b[39;49m\u001b[43m(\u001b[49m\u001b[38;5;28;43minput\u001b[39;49m\u001b[43m(\u001b[49m\u001b[38;5;124;43m\"\u001b[39;49m\u001b[38;5;124;43mingrese el radio del cono en cm:  \u001b[39;49m\u001b[38;5;124;43m\"\u001b[39;49m\u001b[43m)\u001b[49m\u001b[43m)\u001b[49m\n\u001b[0;32m     19\u001b[0m     h\u001b[38;5;241m=\u001b[39m\u001b[38;5;28mfloat\u001b[39m(\u001b[38;5;28minput\u001b[39m(\u001b[38;5;124m\"\u001b[39m\u001b[38;5;124mingrese la altura del cono en cm:  \u001b[39m\u001b[38;5;124m\"\u001b[39m))\n\u001b[0;32m     20\u001b[0m     r2\u001b[38;5;241m=\u001b[39m \u001b[38;5;28mfloat\u001b[39m(\u001b[38;5;28minput\u001b[39m(\u001b[38;5;124m\"\u001b[39m\u001b[38;5;124mingrese el radio de la esfera en cm:  \u001b[39m\u001b[38;5;124m\"\u001b[39m))\n",
      "\u001b[1;31mValueError\u001b[0m: could not convert string to float: ''"
     ]
    }
   ],
   "source": [
    "import math\n",
    "pi:float=math.pi\n",
    "\n",
    "def volumen_cono(r1:float, h:float)->float:\n",
    "    v_cono=((r1 ** 2)* h * pi)/3\n",
    "    return v_cono\n",
    "def volumen_esfera(r2:float)-> float:\n",
    "    v_esfera=(4*((r2 ** 3) * pi))/3\n",
    "    return v_esfera\n",
    "def area_cono(r1:float, h:float)->float:\n",
    "    a_cono = ((math.sqrt(h**2 + r1**2))* pi * r1)+(pi*(r1**2))\n",
    "    return a_cono\n",
    "def area_esfera(r2:float)->float:\n",
    "    a_esfera = 4*((r2**2)*pi)\n",
    "    return a_esfera\n",
    "\n",
    "if __name__ == \"__main__\":\n",
    "    r1=float(input(\"ingrese el radio del cono en cm:  \"))\n",
    "    h=float(input(\"ingrese la altura del cono en cm:  \"))\n",
    "    r2= float(input(\"ingrese el radio de la esfera en cm:  \"))\n",
    "    \n",
    "    vol_cono=volumen_cono(r1, h)\n",
    "    vol_esfera= volumen_esfera(r2)\n",
    "\n",
    "    ar_esfera=area_esfera(r2)\n",
    "    ar_cono=area_cono(r1, h)\n",
    "\n",
    "    \n",
    "    print(\"el area superficial de la figura completa es de\", ar_cono + ar_esfera, \"cm, aproximadamente\")\n",
    "    print(\"El volumen de la figura completa es de\", vol_esfera + vol_cono, \"cm, aproximadamente\")"
   ]
  },
  {
   "cell_type": "markdown",
   "metadata": {},
   "source": [
    "### Ejercicio 2\n",
    "[![image.png](https://i.postimg.cc/TwZ8H44y/image.png)](https://postimg.cc/sQ90Mwyy)"
   ]
  },
  {
   "cell_type": "markdown",
   "metadata": {},
   "source": [
    "#### Area y perimetro\n"
   ]
  },
  {
   "cell_type": "code",
   "execution_count": 31,
   "metadata": {},
   "outputs": [
    {
     "name": "stdout",
     "output_type": "stream",
     "text": [
      "El area total de la figura es de 37.132741228718345 cm, aproximadamente\n",
      "el perimetro total de la figura es de 39.132741228718345 cm, aproximadamente\n"
     ]
    }
   ],
   "source": [
    "import math\n",
    "pi:float = math.pi\n",
    "\n",
    "def area_rectangulo(b:float, a:float)->float:\n",
    "    ar_rectangulo= a * b\n",
    "    return ar_rectangulo\n",
    "def perimetro_rectangulo(b:float, a:float) ->float:\n",
    "    per_rectangulo=2 * a + 2 * b\n",
    "    return per_rectangulo\n",
    "def area_circulo(r:float)->float:\n",
    "    ar_circulo=(r**2)*pi\n",
    "    return ar_circulo\n",
    "def perimetro_circulo(r:float)->float:\n",
    "    per_circulo=2 * pi * r\n",
    "    return per_circulo\n",
    "\n",
    "if __name__ == \"__main__\":\n",
    "    a=float(input(\"inserte la altura del rectangulo en cm:   \"))\n",
    "    b=float(input(\"inserte la base del rectangulo en cm:   \"))\n",
    "    r=float(input(\"inserte el radio del circulo en cm:   \"))\n",
    "\n",
    "    a_rec=area_rectangulo(a, b)\n",
    "    a_cir=area_circulo(r)\n",
    "\n",
    "    p_rec=perimetro_rectangulo(a, b)\n",
    "    p_cir=perimetro_circulo(r)\n",
    "\n",
    "    print(\"El area total de la figura es de\",a_rec + 2* a_cir, \"cm, aproximadamente\")\n",
    "    print(\"el perimetro total de la figura es de\", p_rec + 2*p_cir, \"cm, aproximadamente\")\n",
    "\n",
    "   \n",
    "\n"
   ]
  },
  {
   "cell_type": "markdown",
   "metadata": {},
   "source": [
    "### Ejercicio 3\n",
    "#### Diseñe una función que calcule la cantidad de carne de aves en kilos si se tienen N gallinas, M gallos y K pollitos cada uno pesando 6 kilos, 7 kilos y 1 kilo respectivamente."
   ]
  },
  {
   "cell_type": "code",
   "execution_count": null,
   "metadata": {},
   "outputs": [
    {
     "name": "stdout",
     "output_type": "stream",
     "text": [
      "la cantidad total de carne de pollo es de 14.0 kg\n"
     ]
    }
   ],
   "source": [
    "c_pollo : float = 1 \n",
    "c_gallos: float = 7\n",
    "c_gallina : float = 6\n",
    "def carne_total(q_pollo: float, q_gallina: float, q_gallos: float) -> float:\n",
    "    total_carne = ((q_pollo * c_pollo)+(q_gallos * c_gallos)+(q_gallina * c_gallina))\n",
    "    return total_carne\n",
    "\n",
    "if __name__ == \"__main__\":\n",
    "    q_pollo =float(input(\"ingrese la cantidad de pollo:   \"))\n",
    "    q_gallina=float(input(\"ingrese la cantidad de gallina:   \"))\n",
    "    q_gallos=float(input(\"ingrese la cantidad de gallo:   \"))\n",
    "    t_carne = carne_total(q_pollo, q_gallina, q_gallos)\n",
    "    print(\"la cantidad total de carne de pollo es de\", str(t_carne), \"kg\")"
   ]
  },
  {
   "cell_type": "markdown",
   "metadata": {},
   "source": [
    "### Ejercicio 4 \n",
    "#### Mi mamá me manda a comprar P panes a 300 cada uno, M bolsas de leche a 3300 cada una y H huevos a 350 cada uno. Hacer un programa que me diga las vueltas (o lo que quedo debiendo) cuando me da un billete de B pesos."
   ]
  },
  {
   "cell_type": "code",
   "execution_count": null,
   "metadata": {},
   "outputs": [
    {
     "name": "stdout",
     "output_type": "stream",
     "text": [
      "su cambio debe ser de: 50.0\n"
     ]
    }
   ],
   "source": [
    "P_PAN : float = 300\n",
    "P_LECHE : float = 3300\n",
    "P_HUEVO: float = 350\n",
    "def precio_total(q_huevo:float, q_leche: float, q_pan: float) -> float:\n",
    "    total_price = ((q_huevo * P_HUEVO)+(q_leche * P_LECHE)+(q_pan * P_PAN))\n",
    "    return total_price\n",
    "\n",
    "if __name__ == \"__main__\":\n",
    "    q_huevo= float(input(\"Ingrese la cantidad de huevo comprado:  \"))\n",
    "    q_leche = float(input(\"ingrese la cantidad de leche comprada:  \"))\n",
    "    q_pan = float(input(\"Ingrese la cantidad de pan comprado:  \"))\n",
    "    billete = float(input(\"ingrese el valor del billete dado por su madre:  \"))\n",
    "    total = precio_total (q_huevo, q_leche, q_pan)\n",
    "    if total > billete:\n",
    "        print(\"el dinero no le alcanza\")\n",
    "    else:\n",
    "        print(\"su cambio debe ser de:\", str((billete - total)))"
   ]
  },
  {
   "cell_type": "markdown",
   "metadata": {},
   "source": [
    "### Ejercicio 5\n",
    "#### Haga un programa que utilice una función para calcular el valor de un préstamo C usando interés compuesto del i por n meses."
   ]
  },
  {
   "cell_type": "code",
   "execution_count": null,
   "metadata": {},
   "outputs": [
    {
     "name": "stdout",
     "output_type": "stream",
     "text": [
      "su prestamo tendrá un valor de 507499.99999999994 en un tiempo de 12.0 meses\n"
     ]
    }
   ],
   "source": [
    "T_AÑO : float = 12\n",
    "C : float=100\n",
    "I : float = 1\n",
    "def años(num_meses:float) -> float:\n",
    "    total_tiempo = (num_meses / T_AÑO)\n",
    "    return total_tiempo\n",
    "def interes(inversion_inicial: float, tasa_interes:float) -> float:\n",
    "    total_intereses = ((inversion_inicial*(I + (tasa_interes/C))))\n",
    "    return total_intereses\n",
    "\n",
    "if __name__ == \"__main__\":\n",
    "    inversion_inicial=float(input(\"ingrese el valor del prestamo:   \"))\n",
    "    tiempo = float(input(\"ingrese el periodo de tiempo en meses:  \"))\n",
    "    tasa_interes= float(input(\"ingrese la tasa de interes en porcentaje sin el (%):   \"))\n",
    "\n",
    "    valor_prestamo=interes(inversion_inicial, tasa_interes)\n",
    "    tiempo_prestamo=años (tiempo)\n",
    "    \n",
    "    p_total= valor_prestamo ** tiempo_prestamo\n",
    "\n",
    "    print(\"su prestamo tendrá un valor aproximado de\",str(p_total), \"en un tiempo de\", str(tiempo), \"meses\")\n",
    "\n",
    "\n",
    "\n",
    "\n"
   ]
  },
  {
   "cell_type": "markdown",
   "metadata": {},
   "source": [
    "### Ejercicio 6\n",
    "#### El número de contagiados de Covid-19 en el país de NuncaLandia se duplica cada día. Hacer un programa que diga el número total de personas que se han contagiado cuando pasen D días a partir de hoy, si el número de contagiados actuales es C."
   ]
  },
  {
   "cell_type": "code",
   "execution_count": null,
   "metadata": {},
   "outputs": [
    {
     "name": "stdout",
     "output_type": "stream",
     "text": [
      "256000.0\n"
     ]
    }
   ],
   "source": [
    "def poblacion(p_inicial:int, n_dia:float)-> float: \n",
    "    poblacion_total= p_inicial * (2 ** n_dia)\n",
    "    return poblacion_total\n",
    "if __name__ == \"__main__\":\n",
    "    p_inicial=int(input(\"ingresa la poblacion inical de NuncaLandia:  \"))\n",
    "    n_dia=float(input(\"ingresa el dia en el que quieras saber cuantos contagiados habran:  \"))\n",
    "\n",
    "    contagiados= poblacion(p_inicial, n_dia)\n",
    "    print(contagiados)\n",
    "\n"
   ]
  },
  {
   "cell_type": "markdown",
   "metadata": {},
   "source": [
    "### Ejercicio 7\n",
    "#### Escriba un programa que pida 5 números reales y calcule las siguientes operaciones usando una función para cada una:\n",
    "- El promedio\n",
    "- La mediana\n",
    "- El promedio multiplicativo (multilplica todos y luego calcula la raíz de la cantidad de operandos)\n",
    "- Ordenar los números de forma ascendente\n",
    "- Ordenar los números de forma descendente\n",
    "- La potencia del mayor número elevado al menor número\n",
    "- La raíz cúbica del menor número\n",
    "#### (Las funciones en el archivo funciones_matematicas.py)\n",
    "\n"
   ]
  },
  {
   "cell_type": "code",
   "execution_count": 4,
   "metadata": {},
   "outputs": [
    {
     "name": "stdout",
     "output_type": "stream",
     "text": [
      "[2.0, 3.0, 4.0, 5.0, 6.0]\n",
      "el promedio de los datos ingresados es: 4.0\n",
      "la mediana de los datos ingresados es: 4.0\n",
      "el promedio multiplicativo de los datos ingresados es de: 26.832815729997478\n",
      "la lista ordenada de lo elementos dados de forma ascendente es: [2.0, 3.0, 4.0, 5.0, 6.0]\n",
      "la lista ordenada de los elementos dados de forma descendente: [6.0, 5.0, 4.0, 3.0, 2.0]\n",
      "el resultado de la potencia con base del numero mayor de lista, elevado al mas pequeño es: 36.0\n",
      "la raiz cubica del numero mas pequeño de la lista es: 1.2599210498948732\n"
     ]
    }
   ],
   "source": [
    "import funciones_matematicas\n",
    "\n",
    "if __name__ == \"__main__\":\n",
    "\n",
    "        lista_numeros=[]\n",
    "        for i in range(5):\n",
    "                numeros = float(input(\"ingrese uno de los numeros:  \"))\n",
    "                lista_numeros.append(numeros)\n",
    "\n",
    "        print(lista_numeros)\n",
    "\n",
    "        promedio = funciones_matematicas.hallar_promedio(lista_numeros)\n",
    "        mediana = funciones_matematicas.hallar_mediana(lista_numeros)\n",
    "        prom_multi = funciones_matematicas.hallar_promedio_multiplicativo(lista_numeros)\n",
    "        ascendente= funciones_matematicas.ordenar_ascendente(lista_numeros)\n",
    "        descendente = funciones_matematicas.ordenar_descendente(lista_numeros)\n",
    "        potencias = funciones_matematicas.potencia_extremos(lista_numeros)\n",
    "        raiz = funciones_matematicas.raiz_menor(lista_numeros)\n",
    "\n",
    "        print(\"el promedio de los datos ingresados es:\", str(promedio))\n",
    "        print(\"la mediana de los datos ingresados es:\", str(mediana))\n",
    "        print(\"el promedio multiplicativo de los datos ingresados es de:\", str(prom_multi))\n",
    "        print(\"la lista ordenada de lo elementos dados de forma ascendente es:\", str(ascendente))\n",
    "        print(\"la lista ordenada de los elementos dados de forma descendente:\", str(descendente))\n",
    "        print(\"el resultado de la potencia con base del numero mayor de lista, elevado al mas pequeño es:\", str(potencias))\n",
    "        print(\"la raiz cubica del numero mas pequeño de la lista es:\", str(raiz))\n",
    "\n"
   ]
  }
 ],
 "metadata": {
  "kernelspec": {
   "display_name": "Python 3",
   "language": "python",
   "name": "python3"
  },
  "language_info": {
   "codemirror_mode": {
    "name": "ipython",
    "version": 3
   },
   "file_extension": ".py",
   "mimetype": "text/x-python",
   "name": "python",
   "nbconvert_exporter": "python",
   "pygments_lexer": "ipython3",
   "version": "3.11.8"
  }
 },
 "nbformat": 4,
 "nbformat_minor": 2
}
